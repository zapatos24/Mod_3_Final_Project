{
 "cells": [
  {
   "cell_type": "code",
   "execution_count": 2,
   "metadata": {},
   "outputs": [],
   "source": [
    "from bs4 import BeautifulSoup\n",
    "import requests"
   ]
  },
  {
   "cell_type": "code",
   "execution_count": 3,
   "metadata": {},
   "outputs": [],
   "source": [
    "html_page = requests.get('http://www.city-data.com/zipmaps/Denver-Colorado.html') #Make a get request to retrieve the page\n",
    "soup = BeautifulSoup(html_page.content, 'html.parser') #Pass the page contents to beautiful soup for parsing"
   ]
  },
  {
   "cell_type": "code",
   "execution_count": 4,
   "metadata": {
    "scrolled": true
   },
   "outputs": [
    {
     "name": "stdout",
     "output_type": "stream",
     "text": [
      "200\n"
     ]
    }
   ],
   "source": [
    "print(html_page.status_code)"
   ]
  },
  {
   "cell_type": "markdown",
   "metadata": {},
   "source": [
    "print(html_page.text)\n"
   ]
  },
  {
   "cell_type": "code",
   "execution_count": 5,
   "metadata": {},
   "outputs": [
    {
     "data": {
      "text/plain": [
       "dict_items([('zipCode', 'medianHouseholdIncome')])"
      ]
     },
     "execution_count": 5,
     "metadata": {},
     "output_type": "execute_result"
    }
   ],
   "source": [
    "import re\n",
    "\n",
    "def medianIncomePerYear(year, html):\n",
    "    for zipStatistics in html.findAll('div', class_=\"data-block\"):\n",
    "\n",
    "        # <strong>Zip code 80014 statistics:</strong>\n",
    "        strong = zipStatistics.find('strong').text\n",
    "        zipCode = int(re.match(r\"(Zip code )(\\d{5})( statistics:)\", strong).groups()[1])\n",
    "\n",
    "        median_household_income = 0\n",
    "        for bold_tag in zipStatistics.findAll('b'):\n",
    "            if f\"Estimated median household income in {year}:\" in bold_tag.text:\n",
    "                income_string = bold_tag.nextSibling\n",
    "                income_string = income_string.strip()\n",
    "                income_string = re.sub(\"\\$\", \"\", income_string)\n",
    "                income_string = re.sub(\",\",\"\", income_string)\n",
    "\n",
    "                median_household_income = int((income_string))\n",
    "\n",
    "        yield {\"zipCode\": zipCode, \"medianHouseholdIncome\": median_household_income}\n",
    "\n",
    "\n",
    "medianIncomePerYear2016 = [zipCode for zipCode in medianIncomePerYear(2016, soup)]\n",
    "dict(medianIncomePerYear2016).items()\n"
   ]
  },
  {
   "cell_type": "code",
   "execution_count": 9,
   "metadata": {},
   "outputs": [
    {
     "ename": "SyntaxError",
     "evalue": "unexpected EOF while parsing (<ipython-input-9-b64f34da5862>, line 25)",
     "output_type": "error",
     "traceback": [
      "\u001b[0;36m  File \u001b[0;32m\"<ipython-input-9-b64f34da5862>\"\u001b[0;36m, line \u001b[0;32m25\u001b[0m\n\u001b[0;31m    #code are the keys, not a string or whatever it thinks it is.\u001b[0m\n\u001b[0m                                                                  ^\u001b[0m\n\u001b[0;31mSyntaxError\u001b[0m\u001b[0;31m:\u001b[0m unexpected EOF while parsing\n"
     ]
    }
   ],
   "source": [
    "def Population(year, html):\n",
    "    for zipStatistics in html.findAll('div', class_=\"data-block\"):\n",
    "\n",
    "        # <strong>Zip code 80014 statistics:</strong>\n",
    "        strong = zipStatistics.find('strong').text\n",
    "        zipCode = int(re.match(r\"(Zip code )(\\d{5})( statistics:)\", strong).groups()[1])\n",
    "\n",
    "        pop = 0\n",
    "        for bold_tag in zipStatistics.findAll('b'):\n",
    "            if f\"Estimated zip code population in {year}:\" in bold_tag.text:\n",
    "                income_string = bold_tag.nextSibling\n",
    "                income_string = income_string.strip()\n",
    "                income_string = re.sub(\"\\$\", \"\", income_string)\n",
    "                income_string = re.sub(\",\",\"\", income_string)\n",
    "\n",
    "                pop = int(income_string)\n",
    "\n",
    "        yield {\"zipCode\": zipCode, \"Population\": pop}\n",
    "\n",
    "\n",
    "pop2016 = ([zipCode for zipCode in Population(2016, soup)])\n",
    "\n",
    "pop2016.groupby(['\"zipCode\"', 'Population\"']\n",
    "                \n",
    "#it is saying zipcode is my value and population is my key.. need to fix it so the number that come after the pop and zip\n",
    "#code are the keys, not a string or whatever it thinks it is. "
   ]
  },
  {
   "cell_type": "markdown",
   "metadata": {
    "scrolled": true
   },
   "source": [
    "warning = soup.find('div', class_=\"zip-codes\")\n",
    "warning"
   ]
  },
  {
   "cell_type": "markdown",
   "metadata": {},
   "source": [
    "book_container = warning.nextSibling.nextSibling \n",
    "book_container.prettify"
   ]
  },
  {
   "cell_type": "markdown",
   "metadata": {},
   "source": [
    "book_container.find( 'div',class_=\"zip data-block\")"
   ]
  },
  {
   "cell_type": "code",
   "execution_count": null,
   "metadata": {
    "scrolled": false
   },
   "outputs": [],
   "source": [
    "#titles = book_container.findAll('b')\n"
   ]
  },
  {
   "cell_type": "code",
   "execution_count": null,
   "metadata": {},
   "outputs": [],
   "source": [
    "#soup.find( 'div',class_=\"zip data-block\", id=\"80123\")"
   ]
  },
  {
   "cell_type": "code",
   "execution_count": null,
   "metadata": {
    "scrolled": true
   },
   "outputs": [],
   "source": [
    "#<div class=\"zip-codes\">\n",
    " #Zip codes: <a href=\"#80012\">80012</a>, <a href=\"#80014\">80014</a>, <a href=\"#80110\">80110</a>, <a href=\"#80111\">80111</a>, <a href=\"#80123\">80123</a>, <a href=\"#80202\">80202</a>, <a href=\"#80203\">80203</a>, <a href=\"#80204\">80204</a>, <a href=\"#80205\">80205</a>, <a href=\"#80206\">80206</a>, <a href=\"#80207\">80207</a>, <a href=\"#80209\">80209</a>, <a href=\"#80210\">80210</a>, <a href=\"#80211\">80211</a>, <a href=\"#80212\">80212</a>, <a href=\"#80214\">80214</a>, <a href=\"#80216\">80216</a>, <a href=\"#80218\">80218</a>, <a href=\"#80219\">80219</a>, <a href=\"#80220\">80220</a>, <a href=\"#80221\">80221</a>, <a href=\"#80222\">80222</a>, <a href=\"#80223\">80223</a>, <a href=\"#80224\">80224</a>, <a href=\"#80226\">80226</a>, <a href=\"#80227\">80227</a>, <a href=\"#80230\">80230</a>, <a href=\"#80231\">80231</a>, <a href=\"#80232\">80232</a>, <a href=\"#80235\">80235</a>, <a href=\"#80236\">80236</a>, <a href=\"#80237\">80237</a>, <a href=\"#80238\">80238</a>, <a href=\"#80239\">80239</a>, <a href=\"#80246\">80246</a>, <a href=\"#80247\">80247</a>, <a href=\"#80249\">80249</a>, <a href=\"#80264\">80264</a>, <a href=\"#80290\">80290</a>, <a href=\"#80293\">80293</a>, <a href=\"#80294\">80294</a>.\n",
    "\t#</div>"
   ]
  },
  {
   "cell_type": "code",
   "execution_count": null,
   "metadata": {},
   "outputs": [],
   "source": [
    "#info_stuff =soup.find_all(\"b\")\n",
    "#info_stuff"
   ]
  },
  {
   "cell_type": "code",
   "execution_count": null,
   "metadata": {},
   "outputs": [],
   "source": [
    "souppp = BeautifulSoup('<b>Estimated median household income in 2016:</b>')\n",
    "tag = soup.b\n",
    "type(tag)\n",
    "# <class 'bs4.element.Tag'>\n"
   ]
  },
  {
   "cell_type": "markdown",
   "metadata": {},
   "source": [
    "tag.name\n"
   ]
  },
  {
   "cell_type": "markdown",
   "metadata": {},
   "source": [
    "tag.name = \"blockquote\"\n",
    "tag"
   ]
  },
  {
   "cell_type": "markdown",
   "metadata": {
    "scrolled": true
   },
   "source": [
    "soup.p\n"
   ]
  },
  {
   "cell_type": "markdown",
   "metadata": {},
   "source": [
    "soup.a\n"
   ]
  },
  {
   "cell_type": "markdown",
   "metadata": {},
   "source": [
    "soup.b"
   ]
  },
  {
   "cell_type": "markdown",
   "metadata": {},
   "source": [
    "<b>Estimated median household income in 2016:</b>"
   ]
  },
  {
   "cell_type": "markdown",
   "metadata": {},
   "source": [
    "<div itemscope=\"\" itemtype=\"http://schema.org/JobPosting\" type=\"tuple\" id=\"301017007468\" class=\"row  \">"
   ]
  },
  {
   "cell_type": "markdown",
   "metadata": {},
   "source": [
    "api = \"1541f75239a37d7ceddae573ea9dd61c98476924\""
   ]
  },
  {
   "cell_type": "markdown",
   "metadata": {},
   "source": [
    "\n",
    "url= \"https://api.census.gov/data/2017/acs/acs1?get=NAME,group(B01001)&for=us:1\""
   ]
  }
 ],
 "metadata": {
  "kernelspec": {
   "display_name": "Python 3",
   "language": "python",
   "name": "python3"
  }
 },
 "nbformat": 4,
 "nbformat_minor": 2
}
